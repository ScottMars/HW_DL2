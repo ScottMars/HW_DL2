{
 "cells": [
  {
   "cell_type": "code",
   "execution_count": 1,
   "id": "58c4557a",
   "metadata": {},
   "outputs": [],
   "source": [
    "import struct\n",
    "import os\n",
    "import numpy as np\n",
    "import h5py\n",
    "import hashlib\n",
    "import matplotlib.pyplot as plt\n",
    "import requests, gzip, os\n",
    "from scipy.special import expit \n",
    "%matplotlib inline"
   ]
  },
  {
   "cell_type": "markdown",
   "id": "37281799",
   "metadata": {},
   "source": [
    "# Код загрузки данных"
   ]
  },
  {
   "cell_type": "code",
   "execution_count": 2,
   "id": "7d665814",
   "metadata": {},
   "outputs": [],
   "source": [
    "def get_data():    \n",
    "    MNIST_data = h5py.File('MNISTdata.hdf5', 'r')\n",
    "    x_train = np.float32(MNIST_data['x_train'][:] )\n",
    "    y_train = np.int32(np.array(MNIST_data['y_train'][:,0]))\n",
    "    x_test = np.float32( MNIST_data['x_test'][:] )\n",
    "    y_test = np.int32( np.array( MNIST_data['y_test'][:,0] ) )\n",
    "    MNIST_data.close()\n",
    "    n_classes = len(np.unique(y_train))\n",
    "    n_input = len(x_train)\n",
    "    return x_train, y_train, x_test, y_test, n_classes, n_input"
   ]
  },
  {
   "cell_type": "markdown",
   "id": "946d923d",
   "metadata": {},
   "source": [
    "# Подготовка данных"
   ]
  },
  {
   "cell_type": "code",
   "execution_count": 3,
   "id": "e365e3aa",
   "metadata": {},
   "outputs": [],
   "source": [
    "x_train, y_train, x_test, y_test, output_size, n_input = get_data()"
   ]
  },
  {
   "cell_type": "code",
   "execution_count": 4,
   "id": "78892c0e",
   "metadata": {},
   "outputs": [],
   "source": [
    "num_filters=5\n",
    "filter_size=3\n",
    "input_dim=28\n",
    "input_size=28*28"
   ]
  },
  {
   "cell_type": "code",
   "execution_count": 5,
   "id": "abd85f67",
   "metadata": {},
   "outputs": [],
   "source": [
    "K = np.random.randn(filter_size,filter_size, num_filters)/ np.sqrt(filter_size)\n",
    "W = np.random.randn(output_size,input_dim-filter_size+1,input_dim-filter_size+1,num_filters) / np.sqrt(input_dim-filter_size+1)\n",
    "bias= np.zeros((output_size, 1))/np.sqrt(output_size)"
   ]
  },
  {
   "cell_type": "markdown",
   "id": "6d45383c",
   "metadata": {},
   "source": [
    "# Класс СNN"
   ]
  },
  {
   "cell_type": "code",
   "execution_count": 6,
   "id": "bad08e9b",
   "metadata": {},
   "outputs": [],
   "source": [
    "class CNN:\n",
    "    def __init__(self, n_filters: int, filter_size: int, input_dim: int, input_size: int, output_size: int):\n",
    "        #\n",
    "        self.n_filters = n_filters\n",
    "        self.filter_size =filter_size\n",
    "        self.input_dim=input_dim\n",
    "        self.input_size=input_size\n",
    "        self.output_size=output_size\n",
    "        #\n",
    "        self.K = np.random.randn(filter_size,filter_size, num_filters)/ np.sqrt(filter_size)\n",
    "        self.W = np.random.randn(output_size,input_dim-filter_size+1,input_dim-filter_size+1,num_filters) / np.sqrt(input_dim-filter_size+1)\n",
    "        self.bias= np.zeros((output_size, 1))/np.sqrt(output_size)\n",
    "    \n",
    "    def epoch(self, epoch_n, x_data, y_data):\n",
    "        n_random = randint(0,len(x_data)-1)\n",
    "        y = x_data[n_random]\n",
    "        x = y_data[n_random][:]\n",
    "        x = np.reshape(x, (self.input_dim, self.input_dim))\n",
    "        total_correct = 0\n",
    "        # Предсказание\n",
    "        rho, y, H, Z = self.forward(x, y)\n",
    "        # Бэкпроп\n",
    "        diff_bias, diff_K, diff_W  = self.backward(rho, y, x, H, Z)\n",
    "        # Обновление параметров\n",
    "       \tself.bias=self.bias - LR*diff_bias\n",
    "       \tself.W = self.W - LR*diff_W\n",
    "       \tself.K = self.K - LR*diff_K \n",
    "        return total_correct\n",
    "        \n",
    "        \n",
    "    def forward(self, x, y):\n",
    "        Z = self.conv(x, self.K)\n",
    "        H = self.relu(Z)\n",
    "        \n",
    "        U=np.zeros((self.output_size,1))\n",
    "        for i in range(self.output_size):\n",
    "        \ttemp1=self.W[i,:,:,:]\n",
    "        \ttemp2=np.multiply(temp1,H)\n",
    "        \tU[i]=np.sum(temp2) + bias[i]\n",
    "        \n",
    "        rho = self.softmax_function(U)\n",
    "        predicted_value = np.argmax(rho)\n",
    "        if predicted_value == y:\n",
    "            total_correct += 1\n",
    "        return rho, y, H, Z\n",
    "        \n",
    "    def backward(self, rho, x, y, H, Z):\n",
    "        diff_U = rho - convert_y(y)\n",
    "        diff_bias = diff_U\n",
    "        diff_W=np.zeros((self.output_size,self.input_dim-self.filter_size+1,self.input_dim-self.filter_size+1,self.num_filters))\n",
    "        for i in range(self.output_size):\n",
    "            diff_W[i,:,:,:]=diff_U[i]*H\n",
    "        delta=np.zeros(H.shape)\n",
    "        for i in range(self.input_dim-self.filter_size+1):\n",
    "            for j in range(self.input_dim-self.filter_size+1):\n",
    "                for p in range(self.num_filters):\n",
    "                    delta[i,j,p]=np.sum(np.multiply(diff_U,self.W[:,i,j,p]))\n",
    "\n",
    "        grad_Zdel = np.multiply(self.relu_prime(Z),delta)\n",
    "        diff_K = self.conv(x, grad_Zdel)\n",
    "        return diff_bias, diff_K, diff_W\n",
    "    \n",
    "    def test(self, x_test, y_test):\n",
    "        correct=0\n",
    "        y = y_test[n]\n",
    "        x = x_test[n][:]\n",
    "        x = np.reshape(x, (self.input_dim, self.input_dim))\n",
    "\n",
    "        Z=self.conv(x,self.K)\n",
    "        H=self.relu(Z)\n",
    "\n",
    "        for i in range(self.output_size):\n",
    "            temp1=self.W[i,:,:,:]\n",
    "            temp2=np.multiply(temp1,H)\n",
    "            U[i]=np.sum(temp2) + bias[i]\n",
    "\n",
    "        rho = self.softmax_function(U)\n",
    "        predicted_value = np.argmax(rho)\n",
    "\n",
    "        if (predicted_value == y):\n",
    "            correct = 1\n",
    "        return correct\n",
    "\n",
    "    @staticmethod\n",
    "    def relu(x):\n",
    "        return x*(x>0)\n",
    "    \n",
    "    @staticmethod\n",
    "    # Производня релу\n",
    "    def relu_prime(x):\n",
    "        return (x>0)\n",
    "    \n",
    "    @staticmethod\n",
    "    def conv(x,K):\n",
    "        Z=np.zeros(((x.shape[0]-K.shape[0]+1),(x.shape[0]-K.shape[0]+1),K.shape[2]))\n",
    "        for p in range(K.shape[2]):\n",
    "            for i in range(Z.shape[0]):\n",
    "                for j in range(Z.shape[1]):\n",
    "                    if (i+3<Z.shape[0] and j+3<Z.shape[1]):\n",
    "                        x_temp = x[i:i+3,j:j+3]\n",
    "                        temp=np.multiply(x_temp,K[:,:,p])\n",
    "                        Z[i,j,p]=np.sum(temp)\n",
    "        return Z\n",
    "    \n",
    "    @staticmethod\n",
    "    def softmax_function(z):\n",
    "        ZZ = np.exp(z - max(z))/np.sum(np.exp(z - max(z)))\n",
    "        return ZZ\n",
    "    \n",
    "    @staticmethod\n",
    "    def convert_y(y):\n",
    "        arr = np.zeros((output_size,1))\n",
    "        arr[y] = 1\n",
    "        return arr\n"
   ]
  },
  {
   "cell_type": "markdown",
   "id": "2cd00fd8",
   "metadata": {},
   "source": [
    "# Oбучение"
   ]
  },
  {
   "cell_type": "code",
   "execution_count": 7,
   "id": "812a2f5b",
   "metadata": {},
   "outputs": [
    {
     "ename": "TypeError",
     "evalue": "epoch() missing 1 required positional argument: 'y_data'",
     "output_type": "error",
     "traceback": [
      "\u001b[1;31m---------------------------------------------------------------------------\u001b[0m",
      "\u001b[1;31mTypeError\u001b[0m                                 Traceback (most recent call last)",
      "\u001b[1;32mC:\\Users\\SCOTTM~1\\AppData\\Local\\Temp/ipykernel_9744/1741495032.py\u001b[0m in \u001b[0;36m<module>\u001b[1;34m\u001b[0m\n\u001b[0;32m     15\u001b[0m \u001b[1;33m\u001b[0m\u001b[0m\n\u001b[0;32m     16\u001b[0m     \u001b[1;32mfor\u001b[0m \u001b[0mn\u001b[0m \u001b[1;32min\u001b[0m \u001b[0mrange\u001b[0m\u001b[1;33m(\u001b[0m\u001b[0mlen\u001b[0m\u001b[1;33m(\u001b[0m\u001b[0mx_train\u001b[0m\u001b[1;33m)\u001b[0m\u001b[1;33m)\u001b[0m\u001b[1;33m:\u001b[0m\u001b[1;33m\u001b[0m\u001b[1;33m\u001b[0m\u001b[0m\n\u001b[1;32m---> 17\u001b[1;33m         \u001b[0mcorrect\u001b[0m \u001b[1;33m=\u001b[0m \u001b[0mCNN\u001b[0m\u001b[1;33m.\u001b[0m\u001b[0mepoch\u001b[0m\u001b[1;33m(\u001b[0m\u001b[0mepochs\u001b[0m\u001b[1;33m,\u001b[0m \u001b[0mx_train\u001b[0m\u001b[1;33m,\u001b[0m \u001b[0my_train\u001b[0m\u001b[1;33m)\u001b[0m\u001b[1;33m\u001b[0m\u001b[1;33m\u001b[0m\u001b[0m\n\u001b[0m\u001b[0;32m     18\u001b[0m         \u001b[0mtotal_correct\u001b[0m \u001b[1;33m+=\u001b[0m \u001b[0mtotal_correct\u001b[0m\u001b[1;33m\u001b[0m\u001b[1;33m\u001b[0m\u001b[0m\n\u001b[0;32m     19\u001b[0m \u001b[1;33m\u001b[0m\u001b[0m\n",
      "\u001b[1;31mTypeError\u001b[0m: epoch() missing 1 required positional argument: 'y_data'"
     ]
    }
   ],
   "source": [
    "LR = .01\n",
    "num_epochs = 7\n",
    "\n",
    "cnn = CNN(num_filters, filter_size, input_dim, input_size, output_size)\n",
    "for epochs in range(num_epochs):\n",
    "\n",
    "    if (epochs > 5):\n",
    "        LR = 0.001\n",
    "    if (epochs > 10):\n",
    "        LR = 0.0001\n",
    "    if (epochs > 15):\n",
    "        LR = 0.00001\n",
    "\n",
    "    total_correct = 0\n",
    "\n",
    "    for n in range(len(x_train)):\n",
    "        correct = CNN.epoch(epochs, x_train, y_train)\n",
    "        total_correct += total_correct\n",
    "\n",
    "    print(\"Training accuracy for epoch {} : {}\".format(epochs+1, total_correct/np.float(len(x_train))))"
   ]
  },
  {
   "cell_type": "markdown",
   "id": "706d5f9b",
   "metadata": {},
   "source": [
    "# Тестирование"
   ]
  },
  {
   "cell_type": "code",
   "execution_count": 19,
   "id": "c884f293",
   "metadata": {},
   "outputs": [
    {
     "ename": "TypeError",
     "evalue": "test() missing 1 required positional argument: 'y_test'",
     "output_type": "error",
     "traceback": [
      "\u001b[1;31m---------------------------------------------------------------------------\u001b[0m",
      "\u001b[1;31mTypeError\u001b[0m                                 Traceback (most recent call last)",
      "\u001b[1;32mC:\\Users\\SCOTTM~1\\AppData\\Local\\Temp/ipykernel_19188/3755334765.py\u001b[0m in \u001b[0;36m<module>\u001b[1;34m\u001b[0m\n\u001b[0;32m      1\u001b[0m \u001b[0mtotal_correct\u001b[0m \u001b[1;33m=\u001b[0m \u001b[1;36m0\u001b[0m\u001b[1;33m\u001b[0m\u001b[1;33m\u001b[0m\u001b[0m\n\u001b[0;32m      2\u001b[0m \u001b[1;32mfor\u001b[0m \u001b[0mn\u001b[0m \u001b[1;32min\u001b[0m \u001b[0mrange\u001b[0m\u001b[1;33m(\u001b[0m\u001b[0mlen\u001b[0m\u001b[1;33m(\u001b[0m\u001b[0mx_test\u001b[0m\u001b[1;33m)\u001b[0m\u001b[1;33m)\u001b[0m\u001b[1;33m:\u001b[0m\u001b[1;33m\u001b[0m\u001b[1;33m\u001b[0m\u001b[0m\n\u001b[1;32m----> 3\u001b[1;33m     \u001b[0mcorrect\u001b[0m \u001b[1;33m=\u001b[0m \u001b[0mCNN\u001b[0m\u001b[1;33m.\u001b[0m\u001b[0mtest\u001b[0m\u001b[1;33m(\u001b[0m\u001b[0mx_test\u001b[0m\u001b[1;33m,\u001b[0m \u001b[0my_test\u001b[0m\u001b[1;33m)\u001b[0m\u001b[1;33m\u001b[0m\u001b[1;33m\u001b[0m\u001b[0m\n\u001b[0m\u001b[0;32m      4\u001b[0m     \u001b[0mtotal_correct\u001b[0m \u001b[1;33m+=\u001b[0m \u001b[0mcorrect\u001b[0m\u001b[1;33m\u001b[0m\u001b[1;33m\u001b[0m\u001b[0m\n\u001b[0;32m      5\u001b[0m \u001b[1;33m\u001b[0m\u001b[0m\n",
      "\u001b[1;31mTypeError\u001b[0m: test() missing 1 required positional argument: 'y_test'"
     ]
    }
   ],
   "source": [
    "total_correct = 0\n",
    "for n in range(len(x_test)):\n",
    "    correct = CNN.test(x_test, y_test)\n",
    "    total_correct += correct\n",
    "\n",
    "print(\"Test accuracy : {}\".format(total_correct/np.float(len(x_test))))"
   ]
  },
  {
   "cell_type": "code",
   "execution_count": null,
   "id": "088f968b",
   "metadata": {},
   "outputs": [],
   "source": []
  }
 ],
 "metadata": {
  "kernelspec": {
   "display_name": "Python 3 (ipykernel)",
   "language": "python",
   "name": "python3"
  },
  "language_info": {
   "codemirror_mode": {
    "name": "ipython",
    "version": 3
   },
   "file_extension": ".py",
   "mimetype": "text/x-python",
   "name": "python",
   "nbconvert_exporter": "python",
   "pygments_lexer": "ipython3",
   "version": "3.8.2"
  }
 },
 "nbformat": 4,
 "nbformat_minor": 5
}
